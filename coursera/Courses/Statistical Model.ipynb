{
 "cells": [
  {
   "cell_type": "markdown",
   "metadata": {},
   "source": [
    "**Statistical Model**\n",
    "- imitates & approxmiates data generating process\n",
    "\n",
    "**Modeling Objective**\n",
    "- Quantify uncertainty\n",
    "- Inference\n",
    "- Measure support for hypotheses\n",
    "- Prediction"
   ]
  },
  {
   "cell_type": "code",
   "execution_count": null,
   "metadata": {
    "collapsed": true
   },
   "outputs": [],
   "source": [
    "# 57 % of poll in favour of on candidate (51, 63)\n",
    "# How confident?\n",
    "# How's conducted?\n",
    "# Repeat the poll, the % is change?\n",
    "# 55% women 59% men"
   ]
  },
  {
   "cell_type": "markdown",
   "metadata": {},
   "source": [
    "**Statistical modeling process**\n",
    "1. Understand the problem\n",
    "2. Plan & Collect data\n",
    "3. Explore data\n",
    "4. Postulate model (bias and variance trade-off)\n",
    "5. Fit model (Bayesian Approach)\n",
    "6. Check model (Residual Analysis)\n",
    "7. Iterate {4,5,6}\n",
    "8. Use model"
   ]
  },
  {
   "cell_type": "code",
   "execution_count": null,
   "metadata": {
    "collapsed": true
   },
   "outputs": [],
   "source": []
  }
 ],
 "metadata": {
  "kernelspec": {
   "display_name": "Python 3",
   "language": "python",
   "name": "python3"
  },
  "language_info": {
   "codemirror_mode": {
    "name": "ipython",
    "version": 3
   },
   "file_extension": ".py",
   "mimetype": "text/x-python",
   "name": "python",
   "nbconvert_exporter": "python",
   "pygments_lexer": "ipython3",
   "version": "3.6.3"
  }
 },
 "nbformat": 4,
 "nbformat_minor": 2
}
