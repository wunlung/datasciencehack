{
 "cells": [
  {
   "cell_type": "markdown",
   "metadata": {},
   "source": [
    "##### Problem Statement: extract intentions from the sentences"
   ]
  },
  {
   "cell_type": "code",
   "execution_count": 42,
   "metadata": {
    "collapsed": true
   },
   "outputs": [],
   "source": [
    "sentences = [\"I use the app to connect with my family\",\n",
    "             \"We used it to do analysis\"\n",
    "            ]\n",
    "expected_results = [\"connect with my family\",\n",
    "                    \"do analysis\"\n",
    "                   ]"
   ]
  },
  {
   "cell_type": "markdown",
   "metadata": {},
   "source": [
    "** Some thoughts **\n",
    "1. pattern search, use find or regex\n",
    "    - get sub sentence after the word \"to\"\n",
    "        - ' to (.*)'\n",
    "2. use advance nlp methods\n",
    "    - perform standarad data cleansing\n",
    "        - (OPTIONAL) lower case\n",
    "        - (OPTIONAL) normalize the words, lemmatize \"use\", \"uses\", \"used\" and convert it to \"use\"\n",
    "        - add POS checking\n",
    "    - extract all sub-sentences start with VERB"
   ]
  },
  {
   "cell_type": "code",
   "execution_count": 43,
   "metadata": {
    "scrolled": true
   },
   "outputs": [
    {
     "name": "stdout",
     "output_type": "stream",
     "text": [
      "Origianl Sentence: I use the app to connect with my family\n",
      "Extract sub-sentence: connect with my family\n",
      "Origianl Sentence: We used it to do analysis\n",
      "Extract sub-sentence: do analysis\n"
     ]
    }
   ],
   "source": [
    "# method 1 : using simple search\n",
    "\n",
    "for sent in sentences:\n",
    "    print(\"Origianl Sentence:\", sent)\n",
    "    loc = sent.find('to')\n",
    "    print(\"Extract sub-sentence:\", sent[loc+3:])"
   ]
  },
  {
   "cell_type": "code",
   "execution_count": 49,
   "metadata": {},
   "outputs": [
    {
     "name": "stdout",
     "output_type": "stream",
     "text": [
      "Original sentence:\n",
      "[I use the app to connect with my family]\n",
      "Parsed sentence:\n",
      "I \n"
     ]
    },
    {
     "ename": "TypeError",
     "evalue": "must be str, not spacy.tokens.token.Token",
     "output_type": "error",
     "traceback": [
      "\u001b[0;31m---------------------------------------------------------------------------\u001b[0m",
      "\u001b[0;31mTypeError\u001b[0m                                 Traceback (most recent call last)",
      "\u001b[0;32m<ipython-input-49-945736e2eb1d>\u001b[0m in \u001b[0;36m<module>\u001b[0;34m()\u001b[0m\n\u001b[1;32m     11\u001b[0m         \u001b[0;32mif\u001b[0m \u001b[0mword\u001b[0m\u001b[0;34m.\u001b[0m\u001b[0mpos_\u001b[0m \u001b[0;34m==\u001b[0m \u001b[0;34m'VERB'\u001b[0m\u001b[0;34m:\u001b[0m\u001b[0;34m\u001b[0m\u001b[0m\n\u001b[1;32m     12\u001b[0m             \u001b[0mprint\u001b[0m\u001b[0;34m(\u001b[0m\u001b[0;34m)\u001b[0m\u001b[0;34m\u001b[0m\u001b[0m\n\u001b[0;32m---> 13\u001b[0;31m             \u001b[0mprint\u001b[0m\u001b[0;34m(\u001b[0m\u001b[0;34m\"[\"\u001b[0m \u001b[0;34m+\u001b[0m \u001b[0mword\u001b[0m \u001b[0;34m+\u001b[0m \u001b[0;34m\"]\"\u001b[0m\u001b[0;34m,\u001b[0m\u001b[0mend\u001b[0m\u001b[0;34m=\u001b[0m\u001b[0;34m' '\u001b[0m\u001b[0;34m)\u001b[0m\u001b[0;34m\u001b[0m\u001b[0m\n\u001b[0m\u001b[1;32m     14\u001b[0m         \u001b[0;32melse\u001b[0m\u001b[0;34m:\u001b[0m\u001b[0;34m\u001b[0m\u001b[0m\n\u001b[1;32m     15\u001b[0m             \u001b[0mprint\u001b[0m\u001b[0;34m(\u001b[0m\u001b[0mword\u001b[0m\u001b[0;34m,\u001b[0m\u001b[0mend\u001b[0m\u001b[0;34m=\u001b[0m\u001b[0;34m' '\u001b[0m\u001b[0;34m)\u001b[0m\u001b[0;34m\u001b[0m\u001b[0m\n",
      "\u001b[0;31mTypeError\u001b[0m: must be str, not spacy.tokens.token.Token"
     ]
    }
   ],
   "source": [
    "# mehotd 2: use nlp \n",
    "import spacy\n",
    "nlp = spacy.load('en')\n",
    "for sent in sentences:\n",
    "    VERBS = []\n",
    "    nlp_sent = nlp(sent)\n",
    "    print(\"Original sentence:\")\n",
    "    print(\"[\" + sent + \"]\")\n",
    "    print(\"Parsed sentence:\")\n",
    "    for word in nlp_sent:\n",
    "        if word.pos_ == 'VERB':\n",
    "            print()\n",
    "            print(word + \"]\",end=' ')\n",
    "        else:\n",
    "            print(word, end=' ')\n",
    "    print()\n",
    "    print(\"-\"*30)"
   ]
  },
  {
   "cell_type": "code",
   "execution_count": null,
   "metadata": {
    "collapsed": true
   },
   "outputs": [],
   "source": []
  }
 ],
 "metadata": {
  "kernelspec": {
   "display_name": "Python 3",
   "language": "python",
   "name": "python3"
  },
  "language_info": {
   "codemirror_mode": {
    "name": "ipython",
    "version": 3
   },
   "file_extension": ".py",
   "mimetype": "text/x-python",
   "name": "python",
   "nbconvert_exporter": "python",
   "pygments_lexer": "ipython3",
   "version": "3.6.3"
  }
 },
 "nbformat": 4,
 "nbformat_minor": 2
}
