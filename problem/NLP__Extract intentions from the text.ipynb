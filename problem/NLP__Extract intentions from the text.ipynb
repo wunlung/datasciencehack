{
 "cells": [
  {
   "cell_type": "markdown",
   "metadata": {},
   "source": [
    "##### Problem Statement: extract intentions from the sentences"
   ]
  },
  {
   "cell_type": "code",
   "execution_count": 42,
   "metadata": {
    "collapsed": true
   },
   "outputs": [],
   "source": [
    "sentences = [\"I use the app to connect with my family\",\n",
    "             \"We used it to do analysis\"\n",
    "            ]\n",
    "expected_results = [\"connect with my family\",\n",
    "                    \"do analysis\"\n",
    "                   ]"
   ]
  },
  {
   "cell_type": "markdown",
   "metadata": {},
   "source": [
    "** Some thoughts **\n",
    "1. pattern search, use find or regex\n",
    "    - get sub sentence after the word \"to\"\n",
    "        - ' to (.*)'\n",
    "2. use advanced nlp methods\n",
    "    - perform standarad data cleansing\n",
    "        - (OPTIONAL) lower case\n",
    "        - (OPTIONAL) normalize the words, lemmatize \"use\", \"uses\", \"used\" and convert it to \"use\"\n",
    "        - add POS checking\n",
    "    - extract all sub-sentences start with VERB"
   ]
  },
  {
   "cell_type": "code",
   "execution_count": 51,
   "metadata": {
    "scrolled": true
   },
   "outputs": [
    {
     "name": "stdout",
     "output_type": "stream",
     "text": [
      "Origianl Sentence: I use the app to connect with my family\n",
      "Extract sub-sentence: connect with my family\n",
      "Origianl Sentence: We used it to do analysis\n",
      "Extract sub-sentence: do analysis\n"
     ]
    }
   ],
   "source": [
    "# method 1 : using simple search\n",
    "for sent in sentences:\n",
    "    print(\"Origianl Sentence:\", sent)\n",
    "    loc = sent.find('to')\n",
    "    print(\"Extract sub-sentence:\", sent[loc+3:])"
   ]
  },
  {
   "cell_type": "code",
   "execution_count": 50,
   "metadata": {},
   "outputs": [
    {
     "name": "stdout",
     "output_type": "stream",
     "text": [
      "Original sentence:\n",
      "[I use the app to connect with my family]\n",
      "Parsed sentence:\n",
      "I \n",
      "use the app to \n",
      "connect with my family \n",
      "------------------------------\n",
      "Original sentence:\n",
      "[We used it to do analysis]\n",
      "Parsed sentence:\n",
      "We \n",
      "used it to \n",
      "do analysis \n",
      "------------------------------\n"
     ]
    }
   ],
   "source": [
    "# mehotd 2: use nlp \n",
    "import spacy\n",
    "nlp = spacy.load('en')\n",
    "for sent in sentences:\n",
    "    VERBS = []\n",
    "    nlp_sent = nlp(sent)\n",
    "    print(\"Original sentence:\")\n",
    "    print(\"[\" + sent + \"]\")\n",
    "    print(\"Parsed sentence:\")\n",
    "    for word in nlp_sent:\n",
    "        if word.pos_ == 'VERB':\n",
    "            print()\n",
    "            print(word, end=' ')\n",
    "        else:\n",
    "            print(word, end=' ')\n",
    "    print()\n",
    "    print(\"-\"*30)"
   ]
  }
 ],
 "metadata": {
  "kernelspec": {
   "display_name": "Python 3",
   "language": "python",
   "name": "python3"
  },
  "language_info": {
   "codemirror_mode": {
    "name": "ipython",
    "version": 3
   },
   "file_extension": ".py",
   "mimetype": "text/x-python",
   "name": "python",
   "nbconvert_exporter": "python",
   "pygments_lexer": "ipython3",
   "version": "3.6.3"
  }
 },
 "nbformat": 4,
 "nbformat_minor": 2
}
