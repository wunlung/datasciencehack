{
 "cells": [
  {
   "cell_type": "markdown",
   "metadata": {},
   "source": [
    "###### Core Libraries\n",
    "1. Numpy\n",
    "2. Scipy\n",
    "3. Pandas\n",
    "\n",
    "###### Visualization\n",
    "1. Matplotlib\n",
    "2. Seaborn\n",
    "3. Bokeh\n",
    "4. Plotly\n",
    "5. Pydot\n",
    "\n",
    "###### Machine Learning\n",
    "1. Scikit-learn\n",
    "2. xgboost/catboost/lightgbm\n",
    "\n",
    "###### Deep Learning\n",
    "1. Keras\n",
    "2. Tensorflow\n",
    "3. Pytorch \n",
    "\n",
    "###### Natural Language Processing\n",
    "1. NLTK\n",
    "2. Gensim\n",
    "3. Spacy\n",
    "4. GloVe    - https://github.com/stanfordnlp/GloVe\n",
    "5. Fasttext - https://github.com/facebookresearch/fastText\n",
    "\n",
    "###### Data Mining. Statistics\n",
    "1. Scrapy (web crawler)\n",
    "2. Statsmodels\n",
    "\n",
    "###### ML Explanation/Interpretation\n",
    "1. Skater   - https://github.com/datascienceinc/Skater\n",
    "2. LIME     - https://github.com/marcotcr/lime"
   ]
  },
  {
   "cell_type": "markdown",
   "metadata": {},
   "source": [
    "https://docs.google.com/spreadsheets/d/1wLOtLLJ65QMbLumc3F2Mop_4uPIFbyJ6iDZwOp0cXrQ/edit#gid=789604627"
   ]
  },
  {
   "cell_type": "code",
   "execution_count": null,
   "metadata": {
    "collapsed": true
   },
   "outputs": [],
   "source": [
    "# kopt : hyper-parameter optimization library for Keras\n",
    "# pip install kopt\n",
    "# https://github.com/Avsecz/kopt\n",
    "\n",
    "# catboost\n",
    "# https://github.com/catboost/catboost\n",
    "\n",
    "# xgboost\n",
    "# https://github.com/dmlc/xgboost\n",
    "\n",
    "# lightgbm\n",
    "# https://github.com/Microsoft/LightGBM\n"
   ]
  }
 ],
 "metadata": {
  "kernelspec": {
   "display_name": "Py3.5 tensorflow",
   "language": "python",
   "name": "tensorflow"
  },
  "language_info": {
   "codemirror_mode": {
    "name": "ipython",
    "version": 3
   },
   "file_extension": ".py",
   "mimetype": "text/x-python",
   "name": "python",
   "nbconvert_exporter": "python",
   "pygments_lexer": "ipython3",
   "version": "3.5.4"
  }
 },
 "nbformat": 4,
 "nbformat_minor": 2
}
