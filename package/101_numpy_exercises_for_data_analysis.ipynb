{
 "cells": [
  {
   "cell_type": "code",
   "execution_count": 1,
   "metadata": {
    "collapsed": true
   },
   "outputs": [],
   "source": [
    "# source : http://www.machinelearningplus.com/101-numpy-exercises-python/"
   ]
  },
  {
   "cell_type": "code",
   "execution_count": 2,
   "metadata": {},
   "outputs": [
    {
     "name": "stdout",
     "output_type": "stream",
     "text": [
      "1.13.3\n"
     ]
    }
   ],
   "source": [
    "# 1 Import numpy as np and see the version\n",
    "import numpy as np\n",
    "print(np.__version__)"
   ]
  },
  {
   "cell_type": "code",
   "execution_count": 6,
   "metadata": {},
   "outputs": [
    {
     "data": {
      "text/plain": [
       "array([0, 1, 2, 3, 4, 5, 6, 7, 8, 9])"
      ]
     },
     "execution_count": 6,
     "metadata": {},
     "output_type": "execute_result"
    }
   ],
   "source": [
    "# 2 How to create a 1D array?\n",
    "q2 = np.arange(0,10)\n",
    "q2"
   ]
  },
  {
   "cell_type": "code",
   "execution_count": 8,
   "metadata": {},
   "outputs": [
    {
     "data": {
      "text/plain": [
       "array([[ True,  True,  True],\n",
       "       [ True,  True,  True],\n",
       "       [ True,  True,  True]], dtype=bool)"
      ]
     },
     "execution_count": 8,
     "metadata": {},
     "output_type": "execute_result"
    }
   ],
   "source": [
    "# 3 How to create a boolean array?\n",
    "q3 = np.full((3,3), True) # or np.ones((3,3), dtype)\n",
    "q3"
   ]
  },
  {
   "cell_type": "code",
   "execution_count": 14,
   "metadata": {},
   "outputs": [
    {
     "data": {
      "text/plain": [
       "array([1, 3, 5, 7, 9])"
      ]
     },
     "execution_count": 14,
     "metadata": {},
     "output_type": "execute_result"
    }
   ],
   "source": [
    "# 4 How to extract items that satisfy a given condition from \n",
    "#   1D array?\n",
    "q4 = np.arange(10)\n",
    "q4[q4%2==1] # Extract all odd numbers"
   ]
  },
  {
   "cell_type": "code",
   "execution_count": 17,
   "metadata": {},
   "outputs": [
    {
     "data": {
      "text/plain": [
       "array([ 0, -1,  2, -1,  4, -1,  6, -1,  8, -1])"
      ]
     },
     "execution_count": 17,
     "metadata": {},
     "output_type": "execute_result"
    }
   ],
   "source": [
    "# 5 How to replace items that satisfy a condition with another \n",
    "# value in numpy array?\n",
    "q5 = np.arange(10)\n",
    "q5[q5%2==1]=-1 # Replace all odd numbers with -1\n",
    "q5"
   ]
  },
  {
   "cell_type": "code",
   "execution_count": 26,
   "metadata": {},
   "outputs": [
    {
     "name": "stdout",
     "output_type": "stream",
     "text": [
      "[0 1 2 3 4 5 6 7 8 9]\n"
     ]
    },
    {
     "data": {
      "text/plain": [
       "array([ 0, -1,  2, -1,  4, -1,  6, -1,  8, -1])"
      ]
     },
     "execution_count": 26,
     "metadata": {},
     "output_type": "execute_result"
    }
   ],
   "source": [
    "# 6 How to replace items that satisfy a condition without \n",
    "#   affecting the original array?\n",
    "q6 = np.arange(10)\n",
    "q6c = q6.copy()\n",
    "q6c[q6c%2==1]=-1\n",
    "print(q6)\n",
    "q6c"
   ]
  },
  {
   "cell_type": "code",
   "execution_count": 33,
   "metadata": {},
   "outputs": [
    {
     "name": "stdout",
     "output_type": "stream",
     "text": [
      "[[0 1 2 3 4]\n",
      " [5 6 7 8 9]]\n"
     ]
    },
    {
     "data": {
      "text/plain": [
       "array([[0, 1, 2, 3, 4],\n",
       "       [5, 6, 7, 8, 9]])"
      ]
     },
     "execution_count": 33,
     "metadata": {},
     "output_type": "execute_result"
    }
   ],
   "source": [
    "# 7 How to reshape an array?\n",
    "q7 = np.arange(10)\n",
    "q7b = q7.reshape((2,5)) # convert 1-d array to 2d array\n",
    "q7c = q7.reshape((2,-1)) # -1 automatically decidess the number of cols\n",
    "print(q7b)\n",
    "q7c"
   ]
  },
  {
   "cell_type": "code",
   "execution_count": 45,
   "metadata": {},
   "outputs": [
    {
     "data": {
      "text/plain": [
       "array([[0, 1, 2, 3, 4],\n",
       "       [5, 6, 7, 8, 9],\n",
       "       [1, 1, 1, 1, 1],\n",
       "       [1, 1, 1, 1, 1]])"
      ]
     },
     "execution_count": 45,
     "metadata": {},
     "output_type": "execute_result"
    }
   ],
   "source": [
    "# 8 How to stack two arrays vertically?\n",
    "q8a = np.arange(10).reshape(2,-1)\n",
    "q8b = np.repeat(1,10).reshape(2,-1)\n",
    "# Method 1\n",
    "q8c = np.vstack([q8a,q8b])\n",
    "\n",
    "# Method 2\n",
    "q8c = np.concatenate([q8a, q8b], axis=0)\n",
    "\n",
    "# Method 3\n",
    "q8c = np.r_[q8a, q8b]\n",
    "\n",
    "q8c"
   ]
  },
  {
   "cell_type": "code",
   "execution_count": 49,
   "metadata": {},
   "outputs": [
    {
     "data": {
      "text/plain": [
       "array([[0, 1, 2, 3, 4, 1, 1, 1, 1, 1],\n",
       "       [5, 6, 7, 8, 9, 1, 1, 1, 1, 1]])"
      ]
     },
     "execution_count": 49,
     "metadata": {},
     "output_type": "execute_result"
    }
   ],
   "source": [
    "# 9 How to stack two arrays horizontally?\n",
    "q9a = np.arange(10).reshape(2,-1)\n",
    "q9b = np.repeat(1,10).reshape(2,-1)\n",
    "\n",
    "q9c = np.hstack([q9a,q9b])\n",
    "\n",
    "q9c = np.concatenate([q9a,q9b], axis=1)\n",
    "\n",
    "q9c = np.c_[q9a,q9b]\n",
    "q9c"
   ]
  },
  {
   "cell_type": "code",
   "execution_count": 61,
   "metadata": {},
   "outputs": [
    {
     "data": {
      "text/plain": [
       "array([1, 1, 1, 2, 2, 2, 3, 3, 3, 1, 2, 3, 1, 2, 3, 1, 2, 3])"
      ]
     },
     "execution_count": 61,
     "metadata": {},
     "output_type": "execute_result"
    }
   ],
   "source": [
    "# 10 How to generate custom sequences in numpy\n",
    "#  without hardcoding?\n",
    "q10 = np.array([1,2,3])\n",
    "q10b = np.hstack([np.repeat(q10,3), np.tile(q10, 3)])\n",
    "q10b"
   ]
  },
  {
   "cell_type": "code",
   "execution_count": 65,
   "metadata": {},
   "outputs": [
    {
     "data": {
      "text/plain": [
       "array([2, 4])"
      ]
     },
     "execution_count": 65,
     "metadata": {},
     "output_type": "execute_result"
    }
   ],
   "source": [
    "# 11 How to get the common items between two python numpy arrays?\n",
    "q11a = np.array([1,2,3,2,3,4,3,4,5,6])\n",
    "q11b = np.array([7,2,10,2,7,4,9,4,9,8])\n",
    "q11c = np.intersect1d(q11a, q11b)\n",
    "q11c"
   ]
  },
  {
   "cell_type": "code",
   "execution_count": 68,
   "metadata": {},
   "outputs": [
    {
     "data": {
      "text/plain": [
       "array([1, 2, 3, 4])"
      ]
     },
     "execution_count": 68,
     "metadata": {},
     "output_type": "execute_result"
    }
   ],
   "source": [
    "# 12 How to remove from one array those items that exist in another?\n",
    "q12a = np.array([1,2,3,4,5])\n",
    "q12b = np.array([5,6,7,8,9])\n",
    "q13c = np.setdiff1d(q12a,q12b)\n",
    "q13c"
   ]
  },
  {
   "cell_type": "code",
   "execution_count": 80,
   "metadata": {},
   "outputs": [
    {
     "name": "stdout",
     "output_type": "stream",
     "text": [
      "(array([1, 3, 5, 7]),)\n"
     ]
    },
    {
     "data": {
      "text/plain": [
       "array([1, 3, 5, 7])"
      ]
     },
     "execution_count": 80,
     "metadata": {},
     "output_type": "execute_result"
    }
   ],
   "source": [
    "# 13 How to get the positions where elements of two arrays match?\n",
    "q13a = np.array([1,2,3,2,3,4,3,4,5,6])\n",
    "q13b = np.array([7,2,10,2,7,4,9,4,9,8])\n",
    "\n",
    "q13c = np.where(q13a==q13b)\n",
    "q13d = np.argwhere(q13a==q13b).ravel()\n",
    "print(q13c)\n",
    "q13d"
   ]
  },
  {
   "cell_type": "code",
   "execution_count": 91,
   "metadata": {},
   "outputs": [
    {
     "data": {
      "text/plain": [
       "array([ 6,  7,  8,  9, 10])"
      ]
     },
     "execution_count": 91,
     "metadata": {},
     "output_type": "execute_result"
    }
   ],
   "source": [
    "# 14 How to extract all numbers between a given range from a \n",
    "#   numpy array?\n",
    "q14a = np.arange(15)\n",
    "q14a[(q14a>5) & (q14a<=10)] # Get all items between 5 and 10"
   ]
  },
  {
   "cell_type": "code",
   "execution_count": 101,
   "metadata": {},
   "outputs": [
    {
     "data": {
      "text/plain": [
       "array([6, 7, 9, 8, 9, 7, 5])"
      ]
     },
     "execution_count": 101,
     "metadata": {},
     "output_type": "execute_result"
    }
   ],
   "source": [
    "# 15 How to make a python function that handles scalars to work on \n",
    "#  numpy arrays?\n",
    "q15a = np.array([5, 7, 9, 8, 6, 4, 5])\n",
    "q15b = np.array([6, 3, 4, 8, 9, 7, 1])\n",
    "\n",
    "def maxx(x,y):\n",
    "    if x>=y:\n",
    "        return x\n",
    "    else:\n",
    "        return y\n",
    "\n",
    "pair_max = np.vectorize(maxx)\n",
    "pair_max(q15a, q15b)"
   ]
  },
  {
   "cell_type": "code",
   "execution_count": 108,
   "metadata": {},
   "outputs": [
    {
     "data": {
      "text/plain": [
       "array([[1, 0, 2],\n",
       "       [4, 3, 5],\n",
       "       [7, 6, 8]])"
      ]
     },
     "execution_count": 108,
     "metadata": {},
     "output_type": "execute_result"
    }
   ],
   "source": [
    "# 16 How to swap two columns in a 2d numpy array?\n",
    "q16 = np.arange(9).reshape(3,3)\n",
    "q16[:, [1,0,2]] # swap columns 1 and 2 in the array"
   ]
  },
  {
   "cell_type": "code",
   "execution_count": 110,
   "metadata": {},
   "outputs": [
    {
     "data": {
      "text/plain": [
       "array([[3, 4, 5],\n",
       "       [0, 1, 2],\n",
       "       [6, 7, 8]])"
      ]
     },
     "execution_count": 110,
     "metadata": {},
     "output_type": "execute_result"
    }
   ],
   "source": [
    "# 17 How to swap two rows in a 2d numpy array?\n",
    "q17 = np.arange(9).reshape(3,3)\n",
    "q17[[1,0,2],:] # swap rows 1 and 2 in the array"
   ]
  },
  {
   "cell_type": "code",
   "execution_count": 118,
   "metadata": {},
   "outputs": [
    {
     "data": {
      "text/plain": [
       "array([[6, 7, 8],\n",
       "       [3, 4, 5],\n",
       "       [0, 1, 2]])"
      ]
     },
     "execution_count": 118,
     "metadata": {},
     "output_type": "execute_result"
    }
   ],
   "source": [
    "# 18 How to reverse the rows of a 2d array?\n",
    "q18 = np.arange(9).reshape(3,3)\n",
    "q18[::-1]"
   ]
  },
  {
   "cell_type": "code",
   "execution_count": 142,
   "metadata": {},
   "outputs": [
    {
     "data": {
      "text/plain": [
       "array([[2, 1, 0],\n",
       "       [5, 4, 3],\n",
       "       [8, 7, 6]])"
      ]
     },
     "execution_count": 142,
     "metadata": {},
     "output_type": "execute_result"
    }
   ],
   "source": [
    "# 19 How to reverse the columns of a 2d array?\n",
    "q19 = np.arange(9).reshape(3,3)\n",
    "q19[:,::-1]"
   ]
  },
  {
   "cell_type": "code",
   "execution_count": 153,
   "metadata": {},
   "outputs": [
    {
     "data": {
      "text/plain": [
       "array([[ 7.66361199,  9.39039882,  9.41225952],\n",
       "       [ 5.01504393,  9.52829588,  5.36651003],\n",
       "       [ 9.18511077,  5.76961014,  6.06072003],\n",
       "       [ 7.40544564,  5.42673118,  8.18967393],\n",
       "       [ 5.42975364,  6.21694699,  8.31330047]])"
      ]
     },
     "execution_count": 153,
     "metadata": {},
     "output_type": "execute_result"
    }
   ],
   "source": [
    "# 20 How to create a 2D array containing random floats between\n",
    "#    5 and 10?\n",
    "q20 = np.random.uniform(5,10, size=(5,3))\n",
    "# np.random.randint(5,10,size=(5,3)) + np.random.random((5,3))\n",
    "q20"
   ]
  },
  {
   "cell_type": "code",
   "execution_count": 162,
   "metadata": {
    "collapsed": true
   },
   "outputs": [],
   "source": [
    "# 21 How to print only 3 decimal places in python numpy array?\n",
    "q21 = np.random.random((5,3))\n",
    "np.set_printoptions(precision=3)\n",
    "# q21.round(3) "
   ]
  },
  {
   "cell_type": "code",
   "execution_count": 174,
   "metadata": {},
   "outputs": [
    {
     "data": {
      "text/plain": [
       "array([[ 0.000543,  0.000278,  0.000425],\n",
       "       [ 0.000845,  0.000005,  0.000122],\n",
       "       [ 0.000671,  0.000826,  0.000137]])"
      ]
     },
     "execution_count": 174,
     "metadata": {},
     "output_type": "execute_result"
    }
   ],
   "source": [
    "# 22 How to pretty print a numpy array by suppressing the \n",
    "#    scientific notation (like 1e10)?\n",
    "np.random.seed(100)\n",
    "q22 = np.random.random([3,3])/1e3\n",
    "np.set_printoptions(suppress=True,precision=6)\n",
    "q22"
   ]
  },
  {
   "cell_type": "code",
   "execution_count": 180,
   "metadata": {},
   "outputs": [
    {
     "data": {
      "text/plain": [
       "array([ 0,  1,  2, ..., 12, 13, 14])"
      ]
     },
     "execution_count": 180,
     "metadata": {},
     "output_type": "execute_result"
    }
   ],
   "source": [
    "# 23 How to limit the number of items printed in output\n",
    "#    of numpy array?\n",
    "q23 = np.arange(15)\n",
    "np.set_printoptions(threshold=6)\n",
    "q23"
   ]
  },
  {
   "cell_type": "code",
   "execution_count": 181,
   "metadata": {},
   "outputs": [
    {
     "data": {
      "text/plain": [
       "array([ 0,  1,  2, ..., 12, 13, 14])"
      ]
     },
     "execution_count": 181,
     "metadata": {},
     "output_type": "execute_result"
    }
   ],
   "source": [
    "# 24 How to print the full numpy array without truncating\n",
    "q24 = np.arange(15)\n",
    "np.set_printoptions(threshold=None)\n",
    "q24"
   ]
  },
  {
   "cell_type": "code",
   "execution_count": null,
   "metadata": {
    "collapsed": true
   },
   "outputs": [],
   "source": []
  }
 ],
 "metadata": {
  "kernelspec": {
   "display_name": "Python [default]",
   "language": "python",
   "name": "python3"
  },
  "language_info": {
   "codemirror_mode": {
    "name": "ipython",
    "version": 3
   },
   "file_extension": ".py",
   "mimetype": "text/x-python",
   "name": "python",
   "nbconvert_exporter": "python",
   "pygments_lexer": "ipython3",
   "version": "3.6.3"
  }
 },
 "nbformat": 4,
 "nbformat_minor": 2
}
