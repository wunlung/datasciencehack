{
 "cells": [
  {
   "cell_type": "markdown",
   "metadata": {},
   "source": [
    "# Import and loading data"
   ]
  },
  {
   "cell_type": "code",
   "execution_count": 1,
   "metadata": {},
   "outputs": [
    {
     "name": "stderr",
     "output_type": "stream",
     "text": [
      "Using TensorFlow backend.\n",
      "/Users/wunlung/anaconda3/lib/python3.6/importlib/_bootstrap.py:219: RuntimeWarning: compiletime version 3.5 of module 'tensorflow.python.framework.fast_tensor_util' does not match runtime version 3.6\n",
      "  return f(*args, **kwds)\n"
     ]
    }
   ],
   "source": [
    "from keras.datasets import mnist\n",
    "from keras.utils import to_categorical\n",
    "from keras.models import Sequential\n",
    "from keras.layers import Dense, Dropout"
   ]
  },
  {
   "cell_type": "code",
   "execution_count": 2,
   "metadata": {
    "collapsed": true
   },
   "outputs": [],
   "source": [
    "batch_size = 128\n",
    "num_classes = 10\n",
    "epochs = 20"
   ]
  },
  {
   "cell_type": "code",
   "execution_count": 17,
   "metadata": {
    "collapsed": true
   },
   "outputs": [],
   "source": [
    "(x_train, y_train), (x_test, y_test) = mnist.load_data()"
   ]
  },
  {
   "cell_type": "code",
   "execution_count": 18,
   "metadata": {},
   "outputs": [],
   "source": [
    "x_train = x_train.reshape(60000, 784)\n",
    "x_test = x_test.reshape(10000, 784)\n",
    "x_train = x_train.astype('float32')\n",
    "x_test = x_test.astype('float32')\n",
    "x_train /= 255\n",
    "x_test /= 255"
   ]
  },
  {
   "cell_type": "code",
   "execution_count": 19,
   "metadata": {
    "collapsed": true
   },
   "outputs": [],
   "source": [
    "# one-hot encoding\n",
    "y_train = to_categorical(y_train, num_classes)\n",
    "y_test = to_categorical(y_test, num_classes)"
   ]
  },
  {
   "cell_type": "code",
   "execution_count": 20,
   "metadata": {},
   "outputs": [
    {
     "data": {
      "text/plain": [
       "((60000, 784), (60000, 10))"
      ]
     },
     "execution_count": 20,
     "metadata": {},
     "output_type": "execute_result"
    }
   ],
   "source": [
    "x_train.shape, y_train.shape"
   ]
  },
  {
   "cell_type": "code",
   "execution_count": 9,
   "metadata": {
    "collapsed": true
   },
   "outputs": [],
   "source": [
    "# Defining and compiling model"
   ]
  },
  {
   "cell_type": "code",
   "execution_count": 21,
   "metadata": {},
   "outputs": [
    {
     "name": "stdout",
     "output_type": "stream",
     "text": [
      "_________________________________________________________________\n",
      "Layer (type)                 Output Shape              Param #   \n",
      "=================================================================\n",
      "dense_6 (Dense)              (None, 512)               401920    \n",
      "_________________________________________________________________\n",
      "dropout_5 (Dropout)          (None, 512)               0         \n",
      "_________________________________________________________________\n",
      "dense_7 (Dense)              (None, 512)               262656    \n",
      "_________________________________________________________________\n",
      "dropout_6 (Dropout)          (None, 512)               0         \n",
      "_________________________________________________________________\n",
      "dense_8 (Dense)              (None, 10)                5130      \n",
      "=================================================================\n",
      "Total params: 669,706\n",
      "Trainable params: 669,706\n",
      "Non-trainable params: 0\n",
      "_________________________________________________________________\n"
     ]
    }
   ],
   "source": [
    "model = Sequential()\n",
    "model.add(Dense(512, activation='relu',\n",
    "               input_shape=(784,)))\n",
    "model.add(Dropout(0.2))\n",
    "model.add(Dense(512, activation='relu'))\n",
    "model.add(Dropout(0.2))\n",
    "model.add(Dense(num_classes, activation='softmax'))\n",
    "\n",
    "model.summary()\n",
    "\n",
    "model.compile(loss='categorical_crossentropy',\n",
    "              optimizer='sgd',\n",
    "             metrics=['accuracy'])"
   ]
  },
  {
   "cell_type": "code",
   "execution_count": 22,
   "metadata": {},
   "outputs": [
    {
     "name": "stdout",
     "output_type": "stream",
     "text": [
      "Train on 60000 samples, validate on 10000 samples\n",
      "Epoch 1/20\n",
      "60000/60000 [==============================] - 4s 72us/step - loss: 1.1770 - acc: 0.7021 - val_loss: 0.5305 - val_acc: 0.8672\n",
      "Epoch 2/20\n",
      "60000/60000 [==============================] - 4s 66us/step - loss: 0.5272 - acc: 0.8510 - val_loss: 0.3737 - val_acc: 0.8991\n",
      "Epoch 3/20\n",
      "60000/60000 [==============================] - 4s 66us/step - loss: 0.4211 - acc: 0.8786 - val_loss: 0.3211 - val_acc: 0.9100\n",
      "Epoch 4/20\n",
      "60000/60000 [==============================] - 4s 66us/step - loss: 0.3723 - acc: 0.8929 - val_loss: 0.2903 - val_acc: 0.9186\n",
      "Epoch 5/20\n",
      "60000/60000 [==============================] - 4s 70us/step - loss: 0.3403 - acc: 0.9003 - val_loss: 0.2688 - val_acc: 0.9235\n",
      "Epoch 6/20\n",
      "60000/60000 [==============================] - 4s 72us/step - loss: 0.3154 - acc: 0.9084 - val_loss: 0.2531 - val_acc: 0.9282\n",
      "Epoch 7/20\n",
      "60000/60000 [==============================] - 4s 74us/step - loss: 0.2972 - acc: 0.9133 - val_loss: 0.2378 - val_acc: 0.9315\n",
      "Epoch 8/20\n",
      "60000/60000 [==============================] - 4s 74us/step - loss: 0.2788 - acc: 0.9189 - val_loss: 0.2260 - val_acc: 0.9354\n",
      "Epoch 9/20\n",
      "60000/60000 [==============================] - 4s 75us/step - loss: 0.2663 - acc: 0.9227 - val_loss: 0.2159 - val_acc: 0.9388\n",
      "Epoch 10/20\n",
      "60000/60000 [==============================] - 4s 75us/step - loss: 0.2525 - acc: 0.9265 - val_loss: 0.2051 - val_acc: 0.9400\n",
      "Epoch 11/20\n",
      "60000/60000 [==============================] - 5s 76us/step - loss: 0.2411 - acc: 0.9308 - val_loss: 0.1965 - val_acc: 0.9429\n",
      "Epoch 12/20\n",
      "60000/60000 [==============================] - 5s 77us/step - loss: 0.2299 - acc: 0.9332 - val_loss: 0.1893 - val_acc: 0.9438\n",
      "Epoch 13/20\n",
      "60000/60000 [==============================] - 5s 79us/step - loss: 0.2220 - acc: 0.9364 - val_loss: 0.1810 - val_acc: 0.9462\n",
      "Epoch 14/20\n",
      "60000/60000 [==============================] - 5s 81us/step - loss: 0.2129 - acc: 0.9378 - val_loss: 0.1752 - val_acc: 0.9478\n",
      "Epoch 15/20\n",
      "60000/60000 [==============================] - 5s 79us/step - loss: 0.2050 - acc: 0.9409 - val_loss: 0.1684 - val_acc: 0.9497\n",
      "Epoch 16/20\n",
      "60000/60000 [==============================] - 5s 80us/step - loss: 0.1974 - acc: 0.9425 - val_loss: 0.1638 - val_acc: 0.9515\n",
      "Epoch 17/20\n",
      "60000/60000 [==============================] - 5s 81us/step - loss: 0.1916 - acc: 0.9440 - val_loss: 0.1574 - val_acc: 0.9531\n",
      "Epoch 18/20\n",
      "60000/60000 [==============================] - 5s 79us/step - loss: 0.1843 - acc: 0.9465 - val_loss: 0.1534 - val_acc: 0.9538\n",
      "Epoch 19/20\n",
      "60000/60000 [==============================] - 5s 79us/step - loss: 0.1785 - acc: 0.9485 - val_loss: 0.1482 - val_acc: 0.9555\n",
      "Epoch 20/20\n",
      "60000/60000 [==============================] - 5s 77us/step - loss: 0.1731 - acc: 0.9493 - val_loss: 0.1441 - val_acc: 0.9571\n",
      "Test loss: 0.144121656686\n",
      "Test accuracy: 0.9571\n"
     ]
    }
   ],
   "source": [
    "# Running and evaluation\n",
    "model.fit(x_train, y_train, batch_size=batch_size,\n",
    "         epochs=epochs, validation_data=(x_test, y_test))\n",
    "\n",
    "score = model.evaluate(x_test, y_test, verbose=0)\n",
    "print('Test loss:', score[0])\n",
    "print('Test accuracy:', score[1])"
   ]
  }
 ],
 "metadata": {
  "kernelspec": {
   "display_name": "Python 3",
   "language": "python",
   "name": "python3"
  },
  "language_info": {
   "codemirror_mode": {
    "name": "ipython",
    "version": 3
   },
   "file_extension": ".py",
   "mimetype": "text/x-python",
   "name": "python",
   "nbconvert_exporter": "python",
   "pygments_lexer": "ipython3",
   "version": "3.6.3"
  }
 },
 "nbformat": 4,
 "nbformat_minor": 2
}
