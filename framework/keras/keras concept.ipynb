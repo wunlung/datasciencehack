{
 "cells": [
  {
   "cell_type": "markdown",
   "metadata": {},
   "source": [
    "# Two types of Keras model\n",
    "1. Sequential models: Sequential\n",
    "    - Simply stack layers sequentially\n",
    "2. Non-squential models: Model\n"
   ]
  },
  {
   "cell_type": "markdown",
   "metadata": {},
   "source": [
    "# Keras layers\n",
    "1. Core abstraction for every model\n",
    "2. In sequential models layers have input, output, input_shape and output_shpae\n",
    "3. Can get weights as list of numpy arrays:\n",
    "    - layer.get_weights()\n",
    "4. Set layer weights with layer.set_weights(weights)\n",
    "5. Each layer has a defining configuration, layer.get_config()"
   ]
  },
  {
   "cell_type": "markdown",
   "metadata": {},
   "source": [
    "# Step to build a sequential model\n",
    "1. Instantiate a Sequential model\n",
    "2. Add layers to it one by one using add\n",
    "3. Compile the model with a loss function, an optimizer and optional evaluation metrics\n",
    "4. Use data to fit the model\n",
    "5. Evaluate model, persist or deploy model, start new experiment"
   ]
  },
  {
   "cell_type": "markdown",
   "metadata": {},
   "source": [
    "# Compiling models 1: loss functions"
   ]
  },
  {
   "cell_type": "code",
   "execution_count": null,
   "metadata": {
    "collapsed": true
   },
   "outputs": [],
   "source": [
    "# Option 1: Importing from loss module (preferred)\n",
    "from keras.losses import mean_squared_error\n",
    "model.compile(loss=mean_square, optimizer= # To be filled)\n",
    "\n",
    "# Option 2: Using strings\n",
    "model.compile(loss='mean_square_error', optimizer= # To be filled)"
   ]
  },
  {
   "cell_type": "markdown",
   "metadata": {},
   "source": [
    "# Compiling models 1: optimizers"
   ]
  },
  {
   "cell_type": "code",
   "execution_count": null,
   "metadata": {
    "collapsed": true
   },
   "outputs": [],
   "source": [
    "# Option 1: Load optimizers from module\n",
    "from keras.optimizers import SGD\n",
    "\n",
    "sgd = SGD(lr=0.01,        # learning_rate >= 0\n",
    "          decay=1e-6,     # lr decay after updates\n",
    "          momentum=0.9)   # Momentum parameter use for SGD\n",
    "model.compile(loss=.., optimizer=sgd)\n",
    "\n",
    "# Option 2: pass string(default parameters will be used)\n",
    "model.compile(loss=.., optimizer='sgd')"
   ]
  },
  {
   "cell_type": "markdown",
   "metadata": {},
   "source": [
    "# Fit evaulate and predict"
   ]
  },
  {
   "cell_type": "code",
   "execution_count": null,
   "metadata": {
    "collapsed": true
   },
   "outputs": [],
   "source": [
    "# Fit a model to train data\n",
    "model.fit(x_train, y_train,\n",
    "         batch_size=32,\n",
    "         epochs=10,\n",
    "         validation_data=(x_val, y_val))\n",
    "# Evaluate on test data\n",
    "evaluate(x_test, y_test, batch_size=32)\n",
    "\n",
    "# Predict labels\n",
    "predict(x_test, batch_size=32)"
   ]
  }
 ],
 "metadata": {
  "kernelspec": {
   "display_name": "Python 3",
   "language": "python",
   "name": "python3"
  },
  "language_info": {
   "codemirror_mode": {
    "name": "ipython",
    "version": 3
   },
   "file_extension": ".py",
   "mimetype": "text/x-python",
   "name": "python",
   "nbconvert_exporter": "python",
   "pygments_lexer": "ipython3",
   "version": "3.6.3"
  }
 },
 "nbformat": 4,
 "nbformat_minor": 2
}
