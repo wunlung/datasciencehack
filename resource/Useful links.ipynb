{
 "cells": [
  {
   "cell_type": "markdown",
   "metadata": {},
   "source": [
    "# learning journel from a NYU student\n",
    "https://towardsdatascience.com/my-journey-into-machine-learning-class-1-43a003f69666"
   ]
  },
  {
   "cell_type": "markdown",
   "metadata": {},
   "source": [
    "# MOOC\n",
    "Machine Learning and Deep Learning\n",
    "1. Andrew Ng, Machine Learning - https://www.coursera.org/learn/machine-learning\n",
    "2. Andrew Ng, Deep Learning - https://www.coursera.org/specializations/deep-learning\n",
    "3. Yandex - https://www.coursera.org/specializations/aml\n",
    "4. Emily and Carlos - https://www.coursera.org/specializations/machine-learning\n",
    "\n",
    "Thinking Process\n",
    "1. Scott - https://www.coursera.org/learn/model-thinking\n"
   ]
  },
  {
   "cell_type": "code",
   "execution_count": null,
   "metadata": {
    "collapsed": true
   },
   "outputs": [],
   "source": []
  }
 ],
 "metadata": {
  "kernelspec": {
   "display_name": "Python 3",
   "language": "python",
   "name": "python3"
  },
  "language_info": {
   "codemirror_mode": {
    "name": "ipython",
    "version": 3
   },
   "file_extension": ".py",
   "mimetype": "text/x-python",
   "name": "python",
   "nbconvert_exporter": "python",
   "pygments_lexer": "ipython3",
   "version": "3.6.3"
  }
 },
 "nbformat": 4,
 "nbformat_minor": 2
}
