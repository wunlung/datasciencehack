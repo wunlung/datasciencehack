{
 "cells": [
  {
   "cell_type": "markdown",
   "metadata": {},
   "source": [
    "# learning journel from a NYU student\n",
    "https://towardsdatascience.com/my-journey-into-machine-learning-class-1-43a003f69666"
   ]
  },
  {
   "cell_type": "markdown",
   "metadata": {},
   "source": [
    "# MOOC\n",
    "###### Completing an online course is no simple endeavor. It requires time, dedication, and commitment, so when we say \"Congratulations\" - we mean it! Take a moment to reflect on your hard work and enjoy your completion of these course.\n",
    "\n",
    "Machine Learning and Deep Learning\n",
    "1. Andrew Ng, Machine Learning - https://www.coursera.org/learn/machine-learning\n",
    "2. Andrew Ng, Deep Learning - https://www.coursera.org/specializations/deep-learning\n",
    "3. Yandex - https://www.coursera.org/specializations/aml\n",
    "4. Emily and Carlos - https://www.coursera.org/specializations/machine-learning\n",
    "\n",
    "Reinforcement Learning:\n",
    "1. http://rll.berkeley.edu/deeprlcourse/\n",
    "2. https://sites.google.com/view/deep-rl-bootcamp/lectures\n",
    "3. David Silver - http://www0.cs.ucl.ac.uk/staff/d.silver/web/Teaching.html\n",
    "\n",
    "Thinking Process\n",
    "1. Scott - https://www.coursera.org/learn/model-thinking\n",
    "2. Stanford - https://www.coursera.org/specializations/algorithms\n",
    "\n"
   ]
  },
  {
   "cell_type": "markdown",
   "metadata": {
    "collapsed": true
   },
   "source": [
    "# Online resource\n",
    "1. Google - https://developers.google.com/machine-learning/crash-course/"
   ]
  },
  {
   "cell_type": "markdown",
   "metadata": {},
   "source": [
    "# Blog\n",
    "1. jiqizhixin - https://www.jiqizhixin.com"
   ]
  },
  {
   "cell_type": "markdown",
   "metadata": {},
   "source": [
    "# Library\n",
    "1. LightGBM - https://github.com/Microsoft/LightGBM\n",
    "2. CNTK - https://github.com/Microsoft/CNTK\n",
    "3. xgboost - https://github.com/dmlc/xgboost\n",
    "4. automl - https://github.com/automl/auto-sklearn\n",
    "5. ONNX - https://github.com/onnx/onnx\n"
   ]
  },
  {
   "cell_type": "markdown",
   "metadata": {},
   "source": [
    "# Process\n",
    "1. TDSP - https://docs.microsoft.com/en-us/azure/machine-learning/team-data-science-process/overview"
   ]
  },
  {
   "cell_type": "markdown",
   "metadata": {},
   "source": [
    "# Reinforcement Learning\n",
    "1. https://github.com/rlcode/reinforcement-learning\n",
    "2. https://github.com/MorvanZhou/Reinforcement-learning-with-tensorflow\n",
    "3. https://github.com/yukezhu/tensorflow-reinforce\n",
    "4. https://github.com/VinF/deer\n"
   ]
  },
  {
   "cell_type": "markdown",
   "metadata": {
    "collapsed": true
   },
   "source": [
    "# Learning plan\n",
    "1. 2017 - https://www.analyticsvidhya.com/blog/2017/01/the-most-comprehensive-data-science-learning-plan-for-2017/\n",
    "2. 2016 - https://www.analyticsvidhya.com/blog/2016/01/ultimate-plan-data-scientist-2016/"
   ]
  },
  {
   "cell_type": "markdown",
   "metadata": {},
   "source": [
    "# Misc\n",
    "1. http://datascienceacademy.com/free-data-science-courses/"
   ]
  },
  {
   "cell_type": "markdown",
   "metadata": {},
   "source": [
    "# Reading not related to data science\n",
    "1. https://www.thenewslens.com/article/31894\n",
    "2. http://smart.businessweekly.com.tw/Reading/WebArticle.aspx?ID=60138"
   ]
  },
  {
   "cell_type": "code",
   "execution_count": null,
   "metadata": {
    "collapsed": true
   },
   "outputs": [],
   "source": []
  }
 ],
 "metadata": {
  "kernelspec": {
   "display_name": "Python [default]",
   "language": "python",
   "name": "python3"
  },
  "language_info": {
   "codemirror_mode": {
    "name": "ipython",
    "version": 3
   },
   "file_extension": ".py",
   "mimetype": "text/x-python",
   "name": "python",
   "nbconvert_exporter": "python",
   "pygments_lexer": "ipython3",
   "version": "3.6.3"
  }
 },
 "nbformat": 4,
 "nbformat_minor": 2
}
