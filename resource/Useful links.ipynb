{
 "cells": [
  {
   "cell_type": "code",
   "execution_count": 1,
   "metadata": {
    "collapsed": true
   },
   "outputs": [],
   "source": [
    "# The best way to learn a new skill is to find a problem you need to solve!\n",
    "# You don’t need to fully master a skill before it is useful.\n"
   ]
  },
  {
   "cell_type": "markdown",
   "metadata": {},
   "source": [
    "# learning journel from a NYU student\n",
    "https://towardsdatascience.com/my-journey-into-machine-learning-class-1-43a003f69666"
   ]
  },
  {
   "cell_type": "markdown",
   "metadata": {},
   "source": [
    "# MOOC\n",
    "###### Completing an online course is no simple endeavor. It requires time, dedication, and commitment, so when we say \"Congratulations\" - we mean it! Take a moment to reflect on your hard work and enjoy your completion of these course.\n",
    "\n",
    "Machine Learning and Deep Learning\n",
    "1. Andrew Ng, Machine Learning - https://www.coursera.org/learn/machine-learning\n",
    "2. Andrew Ng, Deep Learning - https://www.coursera.org/specializations/deep-learning\n",
    "3. Yandex - https://www.coursera.org/specializations/aml\n",
    "4. Emily and Carlos - https://www.coursera.org/specializations/machine-learning\n",
    "5. IBM - https://www.coursera.org/learn/ai\n",
    "6. Applied machine learning - https://www.coursera.org/learn/python-text-mining\n",
    "7. Taiwan - http://speech.ee.ntu.edu.tw/~tlkagk/courses.html\n",
    "\n",
    "Reinforcement Learning:\n",
    "1. http://rll.berkeley.edu/deeprlcourse/\n",
    "2. https://sites.google.com/view/deep-rl-bootcamp/lectures\n",
    "3. David Silver - http://www0.cs.ucl.ac.uk/staff/d.silver/web/Teaching.html\n",
    "\n",
    "Thinking Process\n",
    "1. Scott - https://www.coursera.org/learn/model-thinking\n",
    "2. Stanford - https://www.coursera.org/specializations/algorithms\n",
    "\n"
   ]
  },
  {
   "cell_type": "markdown",
   "metadata": {
    "collapsed": true
   },
   "source": [
    "# Online resource\n",
    "1. Google - https://developers.google.com/machine-learning/crash-course/\n",
    "2. Ebooks - https://www.pyimagesearch.com/2018/03/05/7-best-deep-learning-books-reading-right-now/"
   ]
  },
  {
   "cell_type": "markdown",
   "metadata": {},
   "source": [
    "# Blog\n",
    "1. jiqizhixin - https://www.jiqizhixin.com\n",
    "2. gradient boosting - https://medium.com/mlreview/gradient-boosting-from-scratch-1e317ae4587d\n",
    "3. catboost - https://towardsdatascience.com/catboost-vs-light-gbm-vs-xgboost-5f93620723db"
   ]
  },
  {
   "cell_type": "markdown",
   "metadata": {},
   "source": [
    "# Library\n",
    "1. LightGBM - https://github.com/Microsoft/LightGBM\n",
    "2. CNTK - https://github.com/Microsoft/CNTK\n",
    "3. xgboost - https://github.com/dmlc/xgboost\n",
    "4. automl - https://github.com/automl/auto-sklearn\n",
    "5. ONNX - https://github.com/onnx/onnx\n",
    "6. Keras - https://github.com/fchollet/keras-resources\n"
   ]
  },
  {
   "cell_type": "markdown",
   "metadata": {},
   "source": [
    "# Process\n",
    "1. TDSP - https://docs.microsoft.com/en-us/azure/machine-learning/team-data-science-process/overview"
   ]
  },
  {
   "cell_type": "markdown",
   "metadata": {},
   "source": [
    "# Feature Engineering\n",
    "1. https://towardsdatascience.com/understanding-feature-engineering-part-1-continuous-numeric-data-da4e47099a7b"
   ]
  },
  {
   "cell_type": "markdown",
   "metadata": {},
   "source": [
    "# Reinforcement Learning\n",
    "1. https://github.com/rlcode/reinforcement-learning\n",
    "2. https://github.com/MorvanZhou/Reinforcement-learning-with-tensorflow\n",
    "3. https://github.com/yukezhu/tensorflow-reinforce\n",
    "4. https://github.com/VinF/deer\n"
   ]
  },
  {
   "cell_type": "markdown",
   "metadata": {},
   "source": [
    "# Git\n",
    "1. https://github.com/PacktPublishing\n",
    "2. https://github.com/PacktPublishing/Deep-Learning-with-Keras"
   ]
  },
  {
   "cell_type": "markdown",
   "metadata": {},
   "source": [
    "# Image Related\n",
    "1. https://www.pyimagesearch.com/"
   ]
  },
  {
   "cell_type": "markdown",
   "metadata": {},
   "source": [
    "# End-to-end \n",
    "1. https://www.pyimagesearch.com/2018/02/05/deep-learning-production-keras-redis-flask-apache/"
   ]
  },
  {
   "cell_type": "markdown",
   "metadata": {},
   "source": [
    "# XAI\n",
    "1. https://cenksezgin.com/explainable-artificial-intelligence-xai-third-wave-of-ai-5879d6f40a26\n",
    "2. https://medium.com/trustableai/%E5%AE%83%E6%98%AF%E6%80%8E%E9%BA%BC%E7%9F%A5%E9%81%93%E7%9A%84-%E8%A7%A3%E9%87%8B%E6%B7%B1%E5%BA%A6%E5%AD%B8%E7%BF%92%E6%A8%A1%E5%9E%8B-f18f57d18d4f\n",
    "3. https://www.cc.gatech.edu/~alanwags/DLAI2016/(Gunning)%20IJCAI-16%20DLAI%20WS.pdf\n"
   ]
  },
  {
   "cell_type": "markdown",
   "metadata": {
    "collapsed": true
   },
   "source": [
    "# Learning plan\n",
    "1. 2017 - https://www.analyticsvidhya.com/blog/2017/01/the-most-comprehensive-data-science-learning-plan-for-2017/\n",
    "2. 2016 - https://www.analyticsvidhya.com/blog/2016/01/ultimate-plan-data-scientist-2016/"
   ]
  },
  {
   "cell_type": "markdown",
   "metadata": {},
   "source": [
    "# Misc\n",
    "1. http://datascienceacademy.com/free-data-science-courses/\n",
    "2. https://www.thedsinterview.com/resources\n"
   ]
  },
  {
   "cell_type": "markdown",
   "metadata": {},
   "source": [
    "# Reading not related to data science\n",
    "1. https://www.thenewslens.com/article/31894\n",
    "2. http://smart.businessweekly.com.tw/Reading/WebArticle.aspx?ID=60138"
   ]
  },
  {
   "cell_type": "markdown",
   "metadata": {},
   "source": [
    "# Ebook\n",
    "1. Hands-on Machine Learning with Scikit-Learn & Tensorflow by Aurelien Geron\n",
    "2. "
   ]
  },
  {
   "cell_type": "code",
   "execution_count": null,
   "metadata": {
    "collapsed": true
   },
   "outputs": [],
   "source": []
  },
  {
   "cell_type": "markdown",
   "metadata": {
    "collapsed": true
   },
   "source": []
  }
 ],
 "metadata": {
  "kernelspec": {
   "display_name": "Python [default]",
   "language": "python",
   "name": "python3"
  },
  "language_info": {
   "codemirror_mode": {
    "name": "ipython",
    "version": 3
   },
   "file_extension": ".py",
   "mimetype": "text/x-python",
   "name": "python",
   "nbconvert_exporter": "python",
   "pygments_lexer": "ipython3",
   "version": "3.6.3"
  }
 },
 "nbformat": 4,
 "nbformat_minor": 2
}
