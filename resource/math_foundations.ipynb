{
 "cells": [
  {
   "cell_type": "markdown",
   "metadata": {},
   "source": [
    "1. Foundation\n",
    "    1. Calculus:\n",
    "        * [Essece of calculus](https://www.youtube.com/playlist?list=PLZHQObOWTQDMsr9K-rj53DwVRMYO3t5Yr)\n",
    "    2. Linear agebra\n",
    "        * [MIT, Lineage agebra](https://ocw.mit.edu/courses/mathematics/18-06-linear-algebra-spring-2010/video-lectures/)\n",
    "        * [3Blue1Brown, Essence of linear algebra](https://www.youtube.com/playlist?list=PLZHQObOWTQDPD3MizzM2xVFitgF8hE_ab)\n",
    "    3. Programming\n",
    "        * [Coursera, C++](https://www.coursera.org/learn/cpp-chengxu-sheji)\n",
    "        * [Udacity, Python](https://cn.udacity.com/course/intro-to-computer-science--cs101)\n",
    "        * [Ebook, C++ prime plus]\n",
    "    4. Alogrithm\n",
    "        * [Coursera, Algorithms](https://www.coursera.org/learn/algorithms-part1)\n",
    "    5. Matrix\n",
    "        * [The Matrix Cookbook](http://t.cn/RmyKx2s)\n",
    "2. Mid-level\n",
    "    1. Probability and Statistics\n",
    "        * [MIT, Probabilistic Systems Analysis and Applied Probability](https://ocw.mit.edu/courses/electrical-engineering-and-computer-science/6-041-probabilistic-systems-analysis-and-applied-probability-fall-2010/)\n",
    "        * [ebook - MIT, introduction to probability]\n",
    "    2. Numerical optimization\n",
    "        * [Convex optimization](https://goo.gl/inJExJ)\n",
    "        * [Numerical optimization]\n",
    "3. Advanced-level\n",
    "    1. Probabilistic Graphical Models\n",
    "    2. [Fred, Machine learning](https://www.youtube.com/watch?v=ZGUlaomeJ-k&list=PLE91541A982BEA7CD&index=1)\n",
    "    3. [Nando de Freitas, Machine Learning](https://www.youtube.com/user/ProfNandoDF)\n",
    "    4. [Daphne Koller, Probabilistic Graphical Models](https://www.coursera.org/learn/probabilistic-graphical-models)"
   ]
  },
  {
   "cell_type": "markdown",
   "metadata": {},
   "source": [
    "https://www.jiqizhixin.com/articles/2018-02-07-3"
   ]
  }
 ],
 "metadata": {
  "kernelspec": {
   "display_name": "Python [conda env:tensorflow]",
   "language": "python",
   "name": "conda-env-tensorflow-py"
  },
  "language_info": {
   "codemirror_mode": {
    "name": "ipython",
    "version": 3
   },
   "file_extension": ".py",
   "mimetype": "text/x-python",
   "name": "python",
   "nbconvert_exporter": "python",
   "pygments_lexer": "ipython3",
   "version": "3.5.4"
  }
 },
 "nbformat": 4,
 "nbformat_minor": 2
}
