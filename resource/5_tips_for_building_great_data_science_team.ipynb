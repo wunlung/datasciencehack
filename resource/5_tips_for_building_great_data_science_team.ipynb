{
 "cells": [
  {
   "cell_type": "code",
   "execution_count": 1,
   "metadata": {
    "collapsed": true
   },
   "outputs": [],
   "source": [
    "# https://www.forbes.com/sites/teradata/2014/11/19/5-tips-for-building-a-great-data-science-team/#e78a55971197"
   ]
  },
  {
   "cell_type": "markdown",
   "metadata": {},
   "source": [
    "- Tip #1: Stop hunting unicorns\n",
    "- Tip #2: If you build it, you need a solid data infrastructure\n",
    "- Tip #3: Have a compass, align with business goals\n",
    "- Tip #4: Have a timetable (With a project maange to track project efforts and deliver at a steady pace.)\n",
    "- Tip #5: Learn to spot success, Hiring smart people who like learning and collaborating with others on interesting problems is the best way"
   ]
  }
 ],
 "metadata": {
  "kernelspec": {
   "display_name": "Python [conda env:Anaconda3]",
   "language": "python",
   "name": "conda-env-Anaconda3-py"
  },
  "language_info": {
   "codemirror_mode": {
    "name": "ipython",
    "version": 3
   },
   "file_extension": ".py",
   "mimetype": "text/x-python",
   "name": "python",
   "nbconvert_exporter": "python",
   "pygments_lexer": "ipython3",
   "version": "3.6.3"
  }
 },
 "nbformat": 4,
 "nbformat_minor": 2
}
