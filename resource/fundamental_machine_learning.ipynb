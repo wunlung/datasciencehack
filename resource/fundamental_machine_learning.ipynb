{
 "cells": [
  {
   "cell_type": "markdown",
   "metadata": {},
   "source": [
    "# Scalar\n",
    "A scalar usually denotes a single number as opposed to a collection of numbers. A simple example might be x=5 or $x \\in \\mathbb{R}$, where x is the scalar element pointing to a single number or a real-valued single number."
   ]
  },
  {
   "cell_type": "markdown",
   "metadata": {},
   "source": [
    "# Vector\n",
    "A *vector* is defined as a structure that holds an array of numbers which are arranged in order. "
   ]
  },
  {
   "cell_type": "code",
   "execution_count": 1,
   "metadata": {
    "collapsed": true
   },
   "outputs": [],
   "source": [
    "x = [1,2,3,4,5]"
   ]
  },
  {
   "cell_type": "code",
   "execution_count": 2,
   "metadata": {
    "collapsed": true
   },
   "outputs": [],
   "source": [
    "import numpy as np\n",
    "x = np.array(x)"
   ]
  },
  {
   "cell_type": "code",
   "execution_count": 3,
   "metadata": {},
   "outputs": [
    {
     "name": "stdout",
     "output_type": "stream",
     "text": [
      "[1 2 3 4 5] <class 'numpy.ndarray'>\n"
     ]
    }
   ],
   "source": [
    "print(x,type(x))"
   ]
  },
  {
   "cell_type": "markdown",
   "metadata": {},
   "source": [
    "# Matrix"
   ]
  },
  {
   "cell_type": "markdown",
   "metadata": {},
   "source": [
    "A *matrix is a two-dimensional strcuture that basically holds numbers. It's also often referred to as a 2D array.\n",
    "Mathematically, you can depict a matrix as $M = \\begin{bmatrix}\n",
    " m_{11} & m_{12}  & m_{13} \\\\ \n",
    " m_{21} &  m_{22}  &  m_{23} \\\\ \n",
    " m_{31} &   m_{32} &  m_{33} \\\\  \n",
    "\\end{bmatrix}$ \n",
    "such that M is a 3x3 matrix."
   ]
  },
  {
   "cell_type": "code",
   "execution_count": 4,
   "metadata": {
    "collapsed": true
   },
   "outputs": [],
   "source": [
    "M = np.array([[1,5,2],\n",
    "              [4,7,4],\n",
    "              [2,0,9]])"
   ]
  },
  {
   "cell_type": "code",
   "execution_count": 7,
   "metadata": {},
   "outputs": [
    {
     "name": "stdout",
     "output_type": "stream",
     "text": [
      "[[1 5 2]\n",
      " [4 7 4]\n",
      " [2 0 9]]\n"
     ]
    }
   ],
   "source": [
    "print(M)"
   ]
  },
  {
   "cell_type": "code",
   "execution_count": 8,
   "metadata": {},
   "outputs": [
    {
     "name": "stdout",
     "output_type": "stream",
     "text": [
      "(3, 3)\n"
     ]
    }
   ],
   "source": [
    "print(M.shape)"
   ]
  },
  {
   "cell_type": "code",
   "execution_count": 10,
   "metadata": {},
   "outputs": [
    {
     "name": "stdout",
     "output_type": "stream",
     "text": [
      "[[1 4 2]\n",
      " [5 7 0]\n",
      " [2 4 9]]\n"
     ]
    }
   ],
   "source": [
    "# Matrix Transpose\n",
    "print(M.transpose())"
   ]
  },
  {
   "cell_type": "code",
   "execution_count": 11,
   "metadata": {},
   "outputs": [
    {
     "name": "stdout",
     "output_type": "stream",
     "text": [
      "-105.0\n"
     ]
    }
   ],
   "source": [
    "# Matrix Determinant\n",
    "print(np.linalg.det(M))"
   ]
  },
  {
   "cell_type": "code",
   "execution_count": 12,
   "metadata": {
    "collapsed": true
   },
   "outputs": [],
   "source": [
    "# Matrix Inverse\n",
    "M_INV = np.linalg.inv(M)"
   ]
  },
  {
   "cell_type": "code",
   "execution_count": 16,
   "metadata": {},
   "outputs": [
    {
     "name": "stdout",
     "output_type": "stream",
     "text": [
      "[[ 1.  0.  0.]\n",
      " [ 0.  1.  0.]\n",
      " [ 0.  0.  1.]]\n"
     ]
    }
   ],
   "source": [
    "# Identity matrix (result of matrix x matrix_inverse)\n",
    "IDEN_M = np.dot(M, M_INV)\n",
    "IDEN_M = np.round(np.abs(IDEN_M), 0 )\n",
    "print(IDEN_M)"
   ]
  },
  {
   "cell_type": "markdown",
   "metadata": {},
   "source": [
    "# Tensor\n",
    "A tensor is a generic array. Tensors are basically arrays with a variable number of axes. An element in a three-dimensional tensor T can be denoted by $T_{x,y,z}$ where x,y,z denote the three axes for specifying element T."
   ]
  },
  {
   "cell_type": "markdown",
   "metadata": {},
   "source": [
    "# Norm\n",
    "The *norm* is a measure that is used to compute the size of a vector often also defined as the measure of distance from the origin to the point denoted by the vecotr. Mathematically the *p*th norm of a vector is denoted follows.\n",
    "$$ L^{p} = \\left \\| x_{p} \\right \\| = \\left ( \\sum_{i}\\left | x_{i} \\right |^{p}   \\right ) ^{\\frac{1}{p}}$$\n",
    "\n",
    "such that $p \\geq 1$ and $p \\in R$."
   ]
  },
  {
   "cell_type": "markdown",
   "metadata": {},
   "source": [
    "# Eigen Decomposition\n",
    "This is bascially a matrix decomposition process such that we decompose or break down a matrix into a set of eigen vectors and eigen values. The eigen decomposition of a matrix can be mathematically denoted by $M = Vdiag(\\lambda)V^{-1}$ such that the matrix M has a total of n linearly independent eigen vectors represented as $\n",
    "v^{(1)}, v^{(2)}, ... ,v^{(n)} $ and their corresponding  eigen values can be represented as $\\lambda_{1},\\lambda_{2},...,\\lambda_{n}$"
   ]
  },
  {
   "cell_type": "code",
   "execution_count": 19,
   "metadata": {},
   "outputs": [
    {
     "name": "stdout",
     "output_type": "stream",
     "text": [
      "[ -1.32455532  11.32455532   7.        ]\n",
      "[[-0.91761521  0.46120352 -0.46829291]\n",
      " [ 0.35550789  0.79362022 -0.74926865]\n",
      " [ 0.17775394  0.39681011  0.46829291]]\n"
     ]
    }
   ],
   "source": [
    "# eigendecomposition\n",
    "m = np.array([[1,5,2],\n",
    "              [4,7,4],\n",
    "              [2,0,9]\n",
    "              ])\n",
    "eigen_vals, eigen_vecs = np.linalg.eig(m)\n",
    "print(eigen_vals)\n",
    "print(eigen_vecs)"
   ]
  },
  {
   "cell_type": "code",
   "execution_count": 26,
   "metadata": {},
   "outputs": [
    {
     "data": {
      "text/plain": [
       "array([[ 1.,  5.,  2.],\n",
       "       [ 4.,  7.,  4.],\n",
       "       [ 2., -0.,  9.]])"
      ]
     },
     "execution_count": 26,
     "metadata": {},
     "output_type": "execute_result"
    }
   ],
   "source": [
    "np.round( np.dot( np.dot(eigen_vecs, np.diag(eigen_vals)) , np.linalg.inv(eigen_vecs) ) )"
   ]
  },
  {
   "cell_type": "markdown",
   "metadata": {},
   "source": [
    "# Single Value Decomposition\n",
    "The process of single value decomposition, also known as SVD, is another matrix decomposition or factorization process such that we are able to break down a matrix to obtain singular vectors and singular values. Any real matrix will always be decompoed by SVD even if eigen decomposition may not be applicable in some cases. Mathematically, SVD can defined as follows. Considering a matrix $M$ having dimension * m x n * such that *m* denotes total rows and n denotes total columns, the SVD of the matrxi can be represented with the following equation.\n",
    "$$ M_{m\\times n} = U_{m\\times m}  S_{m\\times n} V_{n\\times n} ^{T} $$\n",
    "This gives us the following main components of the decomposition equation.\n",
    "* $U_{m\\times n}$ is an $ m \\times m $ unitary matrix where each column represents a left singular vector\n",
    "* $S_{m\\times n}$ is an $ m \\times n $ matrix with positive numbers on the diagonal, which can also be represented as a vector of the singular values.\n",
    "* $V_{n\\times n} ^{T}$ is an $n \\times n$ unitary matrix where each row represents a right singular value.\n",
    "\n",
    "U and V are always orthogonal."
   ]
  },
  {
   "cell_type": "code",
   "execution_count": 29,
   "metadata": {},
   "outputs": [
    {
     "name": "stdout",
     "output_type": "stream",
     "text": [
      "U: [[ 0.3831556  -0.39279153  0.83600634]\n",
      " [ 0.68811254 -0.48239977 -0.54202545]\n",
      " [ 0.61619228  0.78294653  0.0854506 ]]\n",
      "S: [ 12.10668383   6.91783499   1.25370079]\n",
      "VT: [[ 0.36079164  0.55610321  0.74871798]\n",
      " [-0.10935467 -0.7720271   0.62611158]\n",
      " [-0.92621323  0.30777163  0.21772844]]\n"
     ]
    }
   ],
   "source": [
    "# SVD\n",
    "U, S, VT = np.linalg.svd(m)\n",
    "print(\"U:\", U)\n",
    "print(\"S:\", S)\n",
    "print(\"VT:\", VT)"
   ]
  },
  {
   "cell_type": "markdown",
   "metadata": {},
   "source": [
    "# Random Variable\n",
    "Used frequently in probability and uncertainty measurement, a *random variable* is basically a variable that can take on various values at random. These variables can be of discrete or continuous type in general."
   ]
  },
  {
   "cell_type": "markdown",
   "metadata": {},
   "source": [
    "# Probability Distribution\n",
    "A probability distribution is a distribution or arragnement that depicts the likelihood of a random varaible or variabel to take on each of its probable states. There are usually two main types of distributions based on the variable being discrete or continuous."
   ]
  },
  {
   "cell_type": "markdown",
   "metadata": {},
   "source": [
    "# Probability Mass Function\n",
    "A *probability mass function*, also known as PMF, is a probability distribution over discrete random variables. Popular examples include the Poisson and binomail distributions."
   ]
  },
  {
   "cell_type": "markdown",
   "metadata": {},
   "source": [
    "# Probability Density Function\n",
    "A *probability density function*, also known as PDF, is a probability distribution over continuous random variables. Popular examples include the normal, uniform, and student's T distributions."
   ]
  },
  {
   "cell_type": "markdown",
   "metadata": {},
   "source": [
    "# Marginal Probability\n",
    "The *marginal probability* rule is used when we already have the probability distribution for a set of random variables and we want to compute the probability distribution for a subset of these random variables. For discrete random variables, we can define marginal probability as follows.\n",
    "$$P(x) = \\sum_{y}P(x,y)$$\n",
    "For continuous random variables, we can define it using the integration operation as follows.\n",
    "$$p(x) = \\int p(x,y)dy$$"
   ]
  },
  {
   "cell_type": "markdown",
   "metadata": {},
   "source": [
    "# Conditional Probability\n",
    "The *conditional probability* rule is used when we want to determine the probability that an event is going to take place, such that another event has already taken place. This is mathematically represented as follows.\n",
    "$$P(x|y) = \\frac{P(x,y)}{P(y)}$$\n",
    "This tells us the conditional probability of x, given that y has already taken place."
   ]
  },
  {
   "cell_type": "markdown",
   "metadata": {},
   "source": [
    "# Bayes Theorem\n",
    "$$P(A|B) = \\frac{P(B|A)P(A)}{P(B)}$$\n",
    "such that A and B are events and \n",
    "$P(B) = \\sum_{x}P(B|A)P(A)$"
   ]
  },
  {
   "cell_type": "markdown",
   "metadata": {},
   "source": []
  },
  {
   "cell_type": "markdown",
   "metadata": {},
   "source": [
    "# Statistics\n",
    "* Descriptive statistics\n",
    "* Inferential statistics\n",
    "    * test hypothesis, draw inferences, and conclusions about various characteristics of our data sample or population. Frameworks and techniques like hypothesis testing, correlation, and regression analysis, forecasting, and predictions are typically used for any form of inferential statistics."
   ]
  },
  {
   "cell_type": "code",
   "execution_count": 32,
   "metadata": {},
   "outputs": [
    {
     "name": "stdout",
     "output_type": "stream",
     "text": [
      "Data: [ 2  8  2  2  7  1 17  2 13 11  6 11 13 15 15]\n"
     ]
    }
   ],
   "source": [
    "# descriptive statisitcs\n",
    "import scipy as sp\n",
    "import numpy as np\n",
    "\n",
    "# get data\n",
    "nums = np.random.randint(1,20, size=(1,15))[0]\n",
    "print(\"Data:\", nums)"
   ]
  },
  {
   "cell_type": "code",
   "execution_count": 42,
   "metadata": {},
   "outputs": [
    {
     "name": "stdout",
     "output_type": "stream",
     "text": [
      "Mean: 8.33333333333\n",
      "Median: 8.0\n",
      "Mode: ModeResult(mode=array([2]), count=array([4]))\n",
      "Standard Deviation: 5.43650214343\n",
      "Variance: 29.5555555556\n",
      "Skew: 0.024525573579398243\n",
      "Kurtosis: -1.473441121600995\n"
     ]
    }
   ],
   "source": [
    "# get descriptive stats\n",
    "print(\"Mean:\", sp.mean(nums))\n",
    "print(\"Median:\", sp.median(nums))\n",
    "print(\"Mode:\", sp.stats.mode(nums))\n",
    "print(\"Standard Deviation:\", sp.std(nums))\n",
    "print(\"Variance:\", sp.var(nums))\n",
    "print(\"Skew:\", sp.stats.skew(nums))\n",
    "print(\"Kurtosis:\", sp.stats.kurtosis(nums))"
   ]
  },
  {
   "cell_type": "markdown",
   "metadata": {},
   "source": [
    "# Data Mining\n",
    "# Artifical Intelligence"
   ]
  },
  {
   "cell_type": "markdown",
   "metadata": {},
   "source": [
    "# Natural Language Processing\n",
    "* Machine translation\n",
    "* Speech Recognition\n",
    "* Question answering systems\n",
    "* Context recognition and resolution\n",
    "* Text summarization\n",
    "* Text categorization\n",
    "* Information extraction\n",
    "* Sentiment and emotion analysis\n",
    "* Topic segmentation"
   ]
  }
 ],
 "metadata": {
  "kernelspec": {
   "display_name": "Python 3",
   "language": "python",
   "name": "python3"
  },
  "language_info": {
   "codemirror_mode": {
    "name": "ipython",
    "version": 3
   },
   "file_extension": ".py",
   "mimetype": "text/x-python",
   "name": "python",
   "nbconvert_exporter": "python",
   "pygments_lexer": "ipython3",
   "version": "3.6.3"
  }
 },
 "nbformat": 4,
 "nbformat_minor": 2
}
