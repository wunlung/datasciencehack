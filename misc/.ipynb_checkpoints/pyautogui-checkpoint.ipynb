{
 "cells": [
  {
   "cell_type": "code",
   "execution_count": 1,
   "metadata": {
    "collapsed": true
   },
   "outputs": [],
   "source": [
    "import pyautogui\n",
    "import time"
   ]
  },
  {
   "cell_type": "code",
   "execution_count": 2,
   "metadata": {
    "collapsed": true
   },
   "outputs": [],
   "source": [
    "# Auto typing\n",
    "time.sleep(5)\n",
    "long_string = \"\"\"\n",
    "def fib(n):\n",
    "    a, b = 0, 1\n",
    "    while a < n:\n",
    "        print(a, end=' ')\n",
    "            a, b = b, a+b\n",
    "        print()\n",
    "\"\"\"\n",
    "pyautogui.typewrite(long_string, interval = 0.005)"
   ]
  },
  {
   "cell_type": "code",
   "execution_count": 18,
   "metadata": {
    "collapsed": true
   },
   "outputs": [],
   "source": [
    "pyautogui.typewrite('winleft')\n",
    "pyautogui.hotkey('altleft', 'f4')\n",
    "pyautogui.keyDown('altleft');\n",
    "pyautogui.press('f4');\n",
    "pyautogui.keyUp('altleft')"
   ]
  },
  {
   "cell_type": "code",
   "execution_count": null,
   "metadata": {
    "collapsed": true
   },
   "outputs": [],
   "source": [
    "# Control key and printscreen\n",
    "for i in range(1):\n",
    "    pyautogui.keyDown('right')\n",
    "    pyautogui.keyUp('right')  \n",
    "    \n",
    "    pyautogui.screenshot('page_%d.pdf' % i)\n",
    "    time.sleep(0.05)"
   ]
  },
  {
   "cell_type": "code",
   "execution_count": 3,
   "metadata": {},
   "outputs": [
    {
     "data": {
      "text/plain": [
       "(1920, 1080)"
      ]
     },
     "execution_count": 3,
     "metadata": {},
     "output_type": "execute_result"
    }
   ],
   "source": [
    "pyautogui.size()"
   ]
  },
  {
   "cell_type": "code",
   "execution_count": 4,
   "metadata": {
    "collapsed": true
   },
   "outputs": [],
   "source": [
    "width, height = pyautogui.size()"
   ]
  },
  {
   "cell_type": "code",
   "execution_count": 5,
   "metadata": {
    "collapsed": true
   },
   "outputs": [],
   "source": [
    "# Move mouse\n",
    "for i in range(10):\n",
    "      pyautogui.moveTo(300, 300, duration=0.25)\n",
    "      pyautogui.moveTo(400, 300, duration=0.25)\n",
    "      pyautogui.moveTo(400, 400, duration=0.25)\n",
    "      pyautogui.moveTo(300, 400, duration=0.25)"
   ]
  },
  {
   "cell_type": "code",
   "execution_count": 7,
   "metadata": {},
   "outputs": [],
   "source": [
    "import math\n",
    "r = 250  # radius\n",
    "# Center\n",
    "o_x = width/2\n",
    "o_y = height/2\n",
    " \n",
    "pi = 3.1415926\n",
    " \n",
    "for i in range(2): \n",
    "\tfor angle in range(0, 360, 5):  \n",
    "\t\tX = o_x + r * math.sin(angle*pi/180)\n",
    "\t\tY = o_y + r * math.cos(angle*pi/180)\n",
    " \n",
    "\t\tpyautogui.moveTo(X, Y, duration=0.1)"
   ]
  },
  {
   "cell_type": "code",
   "execution_count": 10,
   "metadata": {
    "collapsed": true
   },
   "outputs": [],
   "source": [
    "x, y = pyautogui.position()"
   ]
  },
  {
   "cell_type": "code",
   "execution_count": 11,
   "metadata": {},
   "outputs": [
    {
     "data": {
      "text/plain": [
       "(644, 662)"
      ]
     },
     "execution_count": 11,
     "metadata": {},
     "output_type": "execute_result"
    }
   ],
   "source": [
    "x,y"
   ]
  },
  {
   "cell_type": "markdown",
   "metadata": {},
   "source": [
    "try:\n",
    "    while True:\n",
    "        x, y = pyautogui.position()\n",
    "        print(x,y)\n",
    "except KeyboardInterrupt:\n",
    "    print('\\nExit.')"
   ]
  },
  {
   "cell_type": "code",
   "execution_count": null,
   "metadata": {
    "collapsed": true
   },
   "outputs": [],
   "source": [
    "pyautogui.click(x=cur_x, y=cur_y, button='left')\n",
    "pyautogui.click(button='right')\n",
    "pyautogui.click(100, 100)"
   ]
  },
  {
   "cell_type": "code",
   "execution_count": null,
   "metadata": {
    "collapsed": true
   },
   "outputs": [],
   "source": [
    "pyautogui.doubleClick()\n",
    "pyautogui.rightClick()\n",
    "pyautogui.middleClick()\n",
    "pyautogui.dragTo()\n",
    "pyautogui.dragRel()\n",
    "pyautogui.scroll(200)"
   ]
  }
 ],
 "metadata": {
  "kernelspec": {
   "display_name": "Python [conda env:tensorflow]",
   "language": "python",
   "name": "conda-env-tensorflow-py"
  },
  "language_info": {
   "codemirror_mode": {
    "name": "ipython",
    "version": 3
   },
   "file_extension": ".py",
   "mimetype": "text/x-python",
   "name": "python",
   "nbconvert_exporter": "python",
   "pygments_lexer": "ipython3",
   "version": "3.5.4"
  }
 },
 "nbformat": 4,
 "nbformat_minor": 2
}
